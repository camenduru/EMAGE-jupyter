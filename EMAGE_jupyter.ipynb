{
  "cells": [
    {
      "cell_type": "markdown",
      "metadata": {
        "id": "view-in-github"
      },
      "source": [
        "[![Open In Colab](https://colab.research.google.com/assets/colab-badge.svg)](https://colab.research.google.com/github/camenduru/EMAGE-jupyter/blob/main/EMAGE_jupyter.ipynb)"
      ]
    },
    {
      "cell_type": "code",
      "execution_count": null,
      "metadata": {
        "id": "VjYy0F2gZIPR"
      },
      "outputs": [],
      "source": [
        "%cd /content\n",
        "!git clone -b dev https://github.com/camenduru/EMAGE-hf\n",
        "%cd /content/EMAGE-hf\n",
        "\n",
        "!pip install gradio loguru==0.7.2 smplx wandb==0.16.0 ConfigArgParse==1.7 trimesh==3.23.5 lmdb==1.4.1 fasttext-wheel textgrid==1.5 pyvirtualdisplay==3.0\n",
        "\n",
        "!apt -y install -qq aria2\n",
        "!aria2c --console-log-level=error -c -x 16 -s 16 -k 1M https://huggingface.co/spaces/H-Liu1997/EMAGE/resolve/main/EMAGE/emage_audio_175.bin -d /content/EMAGE-hf/EMAGE -o emage_audio_175.bin\n",
        "!aria2c --console-log-level=error -c -x 16 -s 16 -k 1M https://huggingface.co/spaces/H-Liu1997/EMAGE/resolve/main/EMAGE/pretrained_vq/hands_vertex_1layer_710.bin -d /content/EMAGE-hf/EMAGE/pretrained_vq -o hands_vertex_1layer_710.bin\n",
        "!aria2c --console-log-level=error -c -x 16 -s 16 -k 1M https://huggingface.co/spaces/H-Liu1997/EMAGE/resolve/main/EMAGE/pretrained_vq/last_1700_foot.bin -d /content/EMAGE-hf/EMAGE/pretrained_vq -o last_1700_foot.bin\n",
        "!aria2c --console-log-level=error -c -x 16 -s 16 -k 1M https://huggingface.co/spaces/H-Liu1997/EMAGE/resolve/main/EMAGE/pretrained_vq/last_790_face_v2.bin -d /content/EMAGE-hf/EMAGE/pretrained_vq -o last_790_face_v2.bin\n",
        "!aria2c --console-log-level=error -c -x 16 -s 16 -k 1M https://huggingface.co/spaces/H-Liu1997/EMAGE/resolve/main/EMAGE/pretrained_vq/lower_foot_600.bin -d /content/EMAGE-hf/EMAGE/pretrained_vq -o lower_foot_600.bin\n",
        "!aria2c --console-log-level=error -c -x 16 -s 16 -k 1M https://huggingface.co/spaces/H-Liu1997/EMAGE/resolve/main/EMAGE/pretrained_vq/upper_vertex_1layer_710.bin -d /content/EMAGE-hf/EMAGE/pretrained_vq -o upper_vertex_1layer_710.bin\n",
        "!aria2c --console-log-level=error -c -x 16 -s 16 -k 1M https://huggingface.co/spaces/H-Liu1997/EMAGE/resolve/main/EMAGE/smplx_models/smplx/SMPLX_NEUTRAL_2020.npz -d /content/EMAGE-hf/EMAGE/smplx_models/smplx -o SMPLX_NEUTRAL_2020.npz\n",
        "!aria2c --console-log-level=error -c -x 16 -s 16 -k 1M https://huggingface.co/spaces/H-Liu1997/EMAGE/resolve/main/EMAGE/test_sequences/smplxflame_30/2_scott_0_1_1.npz -d /content/EMAGE-hf/EMAGE/test_sequences/smplxflame_30 -o 2_scott_0_1_1.npz\n",
        "!aria2c --console-log-level=error -c -x 16 -s 16 -k 1M https://huggingface.co/spaces/H-Liu1997/EMAGE/resolve/main/EMAGE/test_sequences/smplxflame_30/2_scott_0_2_2.npz -d /content/EMAGE-hf/EMAGE/test_sequences/smplxflame_30 -o 2_scott_0_2_2.npz\n",
        "!aria2c --console-log-level=error -c -x 16 -s 16 -k 1M https://huggingface.co/spaces/H-Liu1997/EMAGE/resolve/main/EMAGE/test_sequences/smplxflame_30/2_scott_0_3_3.npz -d /content/EMAGE-hf/EMAGE/test_sequences/smplxflame_30 -o 2_scott_0_3_3.npz\n",
        "!aria2c --console-log-level=error -c -x 16 -s 16 -k 1M https://huggingface.co/spaces/H-Liu1997/EMAGE/resolve/main/EMAGE/test_sequences/smplxflame_30/2_scott_0_4_4.npz -d /content/EMAGE-hf/EMAGE/test_sequences/smplxflame_30 -o 2_scott_0_4_4.npz\n",
        "!aria2c --console-log-level=error -c -x 16 -s 16 -k 1M https://huggingface.co/spaces/H-Liu1997/EMAGE/resolve/main/EMAGE/test_sequences/wave16k/2_scott_0_1_1.wav -d /content/EMAGE-hf/EMAGE/test_sequences/wave16k -o 2_scott_0_1_1.wav\n",
        "!aria2c --console-log-level=error -c -x 16 -s 16 -k 1M https://huggingface.co/spaces/H-Liu1997/EMAGE/resolve/main/EMAGE/test_sequences/wave16k/2_scott_0_2_2.wav -d /content/EMAGE-hf/EMAGE/test_sequences/wave16k -o 2_scott_0_2_2.wav\n",
        "!aria2c --console-log-level=error -c -x 16 -s 16 -k 1M https://huggingface.co/spaces/H-Liu1997/EMAGE/resolve/main/EMAGE/test_sequences/wave16k/2_scott_0_3_3.wav -d /content/EMAGE-hf/EMAGE/test_sequences/wave16k -o 2_scott_0_3_3.wav\n",
        "!aria2c --console-log-level=error -c -x 16 -s 16 -k 1M https://huggingface.co/spaces/H-Liu1997/EMAGE/resolve/main/EMAGE/test_sequences/wave16k/2_scott_0_4_4.wav -d /content/EMAGE-hf/EMAGE/test_sequences/wave16k -o 2_scott_0_4_4.wav\n",
        "!aria2c --console-log-level=error -c -x 16 -s 16 -k 1M https://huggingface.co/spaces/H-Liu1997/EMAGE/resolve/main/EMAGE/test_sequences/weights/AESKConv_240_100.bin -d /content/EMAGE-hf/EMAGE/test_sequences/weights -o AESKConv_240_100.bin\n",
        "!aria2c --console-log-level=error -c -x 16 -s 16 -k 1M https://huggingface.co/spaces/H-Liu1997/EMAGE/resolve/main/EMAGE/test_sequences/weights/mean_vel_smplxflame_30.npy -d /content/EMAGE-hf/EMAGE/test_sequences/weights -o mean_vel_smplxflame_30.npy\n",
        "!aria2c --console-log-level=error -c -x 16 -s 16 -k 1M https://huggingface.co/spaces/H-Liu1997/EMAGE/resolve/main/EMAGE/test_sequences/weights/vocab.pkl -d /content/EMAGE-hf/EMAGE/test_sequences/weights -o vocab.pkl\n",
        "!aria2c --console-log-level=error -c -x 16 -s 16 -k 1M https://huggingface.co/spaces/H-Liu1997/EMAGE/resolve/main/outputs/audio2pose/custom/hf/999/gt_2_scott_0_3_3.npz -d /content/EMAGE-hf/outputs/audio2pose/custom/hf/999 -o gt_2_scott_0_3_3.npz\n",
        "!aria2c --console-log-level=error -c -x 16 -s 16 -k 1M https://huggingface.co/spaces/H-Liu1997/EMAGE/resolve/main/outputs/audio2pose/custom/hf/999/res_2_scott_0_3_3.npz -d /content/EMAGE-hf/outputs/audio2pose/custom/hf/999 -o res_2_scott_0_3_3.npz\n",
        "\n",
        "!python app.py"
      ]
    }
  ],
  "metadata": {
    "accelerator": "GPU",
    "colab": {
      "gpuType": "T4",
      "provenance": []
    },
    "kernelspec": {
      "display_name": "Python 3",
      "name": "python3"
    },
    "language_info": {
      "name": "python"
    }
  },
  "nbformat": 4,
  "nbformat_minor": 0
}
